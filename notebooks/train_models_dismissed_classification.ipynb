{
 "cells": [
  {
   "cell_type": "code",
   "execution_count": 7,
   "metadata": {},
   "outputs": [],
   "source": [
    "import os\n",
    "import pandas as pd\n",
    "import numpy as np\n",
    "import seaborn as sns\n",
    "import datetime\n",
    "import sys\n",
    "sys.path.append(\"..\")\n",
    "from src.functions_analysis import *"
   ]
  },
  {
   "cell_type": "markdown",
   "metadata": {},
   "source": [
    "# Import data"
   ]
  },
  {
   "cell_type": "code",
   "execution_count": 8,
   "metadata": {},
   "outputs": [
    {
     "data": {
      "text/plain": [
       "(5771, 5771)"
      ]
     },
     "execution_count": 8,
     "metadata": {},
     "output_type": "execute_result"
    }
   ],
   "source": [
    "sumtable = pd.read_excel(\"../../data/summary_table_all.xlsx\")\n",
    "sumtable.drop('Unnamed: 0', axis = 1,inplace = True)\n",
    "\n",
    "scraped_data = pd.read_csv(\"../../data/data_from_scrapy.csv\")\n",
    "\n",
    "#length\n",
    "len(sumtable),len(scraped_data)"
   ]
  },
  {
   "cell_type": "code",
   "execution_count": 9,
   "metadata": {},
   "outputs": [
    {
     "data": {
      "text/html": [
       "<div>\n",
       "<style scoped>\n",
       "    .dataframe tbody tr th:only-of-type {\n",
       "        vertical-align: middle;\n",
       "    }\n",
       "\n",
       "    .dataframe tbody tr th {\n",
       "        vertical-align: top;\n",
       "    }\n",
       "\n",
       "    .dataframe thead th {\n",
       "        text-align: right;\n",
       "    }\n",
       "</style>\n",
       "<table border=\"1\" class=\"dataframe\">\n",
       "  <thead>\n",
       "    <tr style=\"text-align: right;\">\n",
       "      <th></th>\n",
       "      <th>case_brief</th>\n",
       "      <th>case_name</th>\n",
       "      <th>case_status</th>\n",
       "      <th>class_period_end</th>\n",
       "      <th>class_period_start</th>\n",
       "      <th>company_market</th>\n",
       "      <th>court</th>\n",
       "      <th>date_filed</th>\n",
       "      <th>date_of_last_review</th>\n",
       "      <th>docket</th>\n",
       "      <th>...</th>\n",
       "      <th>fic_links_list</th>\n",
       "      <th>fic_summary_table</th>\n",
       "      <th>headquarters</th>\n",
       "      <th>industry</th>\n",
       "      <th>judge</th>\n",
       "      <th>market_status</th>\n",
       "      <th>plaintiffs</th>\n",
       "      <th>sector</th>\n",
       "      <th>ticker_symbol</th>\n",
       "      <th>url</th>\n",
       "    </tr>\n",
       "  </thead>\n",
       "  <tbody>\n",
       "    <tr>\n",
       "      <th>0</th>\n",
       "      <td>According to the Complaint, Wirecard is a tech...</td>\n",
       "      <td>Wirecard AG Securities Litigation</td>\n",
       "      <td>ONGOING</td>\n",
       "      <td>6/24/20</td>\n",
       "      <td>8/17/15</td>\n",
       "      <td>OTC-BB</td>\n",
       "      <td>E.D. Pennsylvania</td>\n",
       "      <td>7/7/20</td>\n",
       "      <td>7/8/20</td>\n",
       "      <td>20-CV-03326</td>\n",
       "      <td>...</td>\n",
       "      <td>http://securities.stanford.edu/filings-documen...</td>\n",
       "      <td>{\"No\":{\"0\":\"1\",\"1\":\"2\"},\"Document Title\":{\"0\":...</td>\n",
       "      <td>Germany</td>\n",
       "      <td>Software &amp; Programming</td>\n",
       "      <td>Hon. ANITA B. BRODY</td>\n",
       "      <td>Public (Listed)</td>\n",
       "      <td>The Rosen Law Firm, P.A. (Jenkintown)</td>\n",
       "      <td>Technology</td>\n",
       "      <td>WCAGY</td>\n",
       "      <td>http://securities.stanford.edu/filings-case.ht...</td>\n",
       "    </tr>\n",
       "    <tr>\n",
       "      <th>1</th>\n",
       "      <td>According to the Complaint, Finjan Holdings, I...</td>\n",
       "      <td>Finjan Holdings, Inc. Securities Litigation</td>\n",
       "      <td>ONGOING</td>\n",
       "      <td>6/29/20</td>\n",
       "      <td>6/10/20</td>\n",
       "      <td>NASDAQ</td>\n",
       "      <td>N.D. California</td>\n",
       "      <td>6/29/20</td>\n",
       "      <td>6/30/20</td>\n",
       "      <td>20-CV-04289</td>\n",
       "      <td>...</td>\n",
       "      <td>http://securities.stanford.edu/filings-documen...</td>\n",
       "      <td>{\"No\":{\"0\":\"1\",\"1\":\"2\"},\"Document Title\":{\"0\":...</td>\n",
       "      <td>United States</td>\n",
       "      <td>Software &amp; Programming</td>\n",
       "      <td>Hon. Edward M. Chen</td>\n",
       "      <td>Public (Listed)</td>\n",
       "      <td>Brodsky &amp; Smith, LLC  (California)</td>\n",
       "      <td>Technology</td>\n",
       "      <td>FNJN</td>\n",
       "      <td>http://securities.stanford.edu/filings-case.ht...</td>\n",
       "    </tr>\n",
       "    <tr>\n",
       "      <th>2</th>\n",
       "      <td>According to the Complaint, Chembio Diagnostic...</td>\n",
       "      <td>Chembio Diagnostics, Inc. Securities Litigation</td>\n",
       "      <td>ONGOING</td>\n",
       "      <td>7/1/20</td>\n",
       "      <td>6/16/20</td>\n",
       "      <td>NASDAQ</td>\n",
       "      <td>E.D. New York</td>\n",
       "      <td>7/1/20</td>\n",
       "      <td>7/3/20</td>\n",
       "      <td>20-CV-02918</td>\n",
       "      <td>...</td>\n",
       "      <td>http://securities.stanford.edu/filings-documen...</td>\n",
       "      <td>{\"No\":{\"0\":\"1\",\"1\":\"2\"},\"Document Title\":{\"0\":...</td>\n",
       "      <td>United States</td>\n",
       "      <td>Biotechnology &amp; Drugs</td>\n",
       "      <td>Hon. Sandra J. Feuerstein</td>\n",
       "      <td>Public (Listed)</td>\n",
       "      <td>Fields Kupka &amp; Shukurov LLP\\n\\t\\t\\t\\t\\t\\t\\t\\t\\...</td>\n",
       "      <td>Healthcare</td>\n",
       "      <td>CEMI</td>\n",
       "      <td>http://securities.stanford.edu/filings-case.ht...</td>\n",
       "    </tr>\n",
       "  </tbody>\n",
       "</table>\n",
       "<p>3 rows × 21 columns</p>\n",
       "</div>"
      ],
      "text/plain": [
       "                                          case_brief  \\\n",
       "0  According to the Complaint, Wirecard is a tech...   \n",
       "1  According to the Complaint, Finjan Holdings, I...   \n",
       "2  According to the Complaint, Chembio Diagnostic...   \n",
       "\n",
       "                                         case_name case_status  \\\n",
       "0                Wirecard AG Securities Litigation     ONGOING   \n",
       "1      Finjan Holdings, Inc. Securities Litigation     ONGOING   \n",
       "2  Chembio Diagnostics, Inc. Securities Litigation     ONGOING   \n",
       "\n",
       "  class_period_end class_period_start company_market              court  \\\n",
       "0          6/24/20            8/17/15         OTC-BB  E.D. Pennsylvania   \n",
       "1          6/29/20            6/10/20         NASDAQ    N.D. California   \n",
       "2           7/1/20            6/16/20         NASDAQ      E.D. New York   \n",
       "\n",
       "  date_filed date_of_last_review       docket  ...  \\\n",
       "0     7/7/20              7/8/20  20-CV-03326  ...   \n",
       "1    6/29/20             6/30/20  20-CV-04289  ...   \n",
       "2     7/1/20              7/3/20  20-CV-02918  ...   \n",
       "\n",
       "                                      fic_links_list  \\\n",
       "0  http://securities.stanford.edu/filings-documen...   \n",
       "1  http://securities.stanford.edu/filings-documen...   \n",
       "2  http://securities.stanford.edu/filings-documen...   \n",
       "\n",
       "                                   fic_summary_table   headquarters  \\\n",
       "0  {\"No\":{\"0\":\"1\",\"1\":\"2\"},\"Document Title\":{\"0\":...        Germany   \n",
       "1  {\"No\":{\"0\":\"1\",\"1\":\"2\"},\"Document Title\":{\"0\":...  United States   \n",
       "2  {\"No\":{\"0\":\"1\",\"1\":\"2\"},\"Document Title\":{\"0\":...  United States   \n",
       "\n",
       "                 industry                      judge    market_status  \\\n",
       "0  Software & Programming        Hon. ANITA B. BRODY  Public (Listed)   \n",
       "1  Software & Programming        Hon. Edward M. Chen  Public (Listed)   \n",
       "2   Biotechnology & Drugs  Hon. Sandra J. Feuerstein  Public (Listed)   \n",
       "\n",
       "                                          plaintiffs      sector  \\\n",
       "0              The Rosen Law Firm, P.A. (Jenkintown)  Technology   \n",
       "1                 Brodsky & Smith, LLC  (California)  Technology   \n",
       "2  Fields Kupka & Shukurov LLP\\n\\t\\t\\t\\t\\t\\t\\t\\t\\...  Healthcare   \n",
       "\n",
       "  ticker_symbol                                                url  \n",
       "0         WCAGY  http://securities.stanford.edu/filings-case.ht...  \n",
       "1          FNJN  http://securities.stanford.edu/filings-case.ht...  \n",
       "2          CEMI  http://securities.stanford.edu/filings-case.ht...  \n",
       "\n",
       "[3 rows x 21 columns]"
      ]
     },
     "execution_count": 9,
     "metadata": {},
     "output_type": "execute_result"
    }
   ],
   "source": [
    "scraped_data.head(3)"
   ]
  },
  {
   "cell_type": "markdown",
   "metadata": {},
   "source": [
    "# Data Prepossing"
   ]
  },
  {
   "cell_type": "code",
   "execution_count": 10,
   "metadata": {},
   "outputs": [],
   "source": [
    "import numpy as np\n",
    "from sklearn.model_selection import train_test_split\n",
    "from sklearn.preprocessing import OneHotEncoder\n",
    "from sklearn.preprocessing import LabelEncoder\n",
    "from sklearn.preprocessing import normalize"
   ]
  },
  {
   "cell_type": "code",
   "execution_count": 11,
   "metadata": {},
   "outputs": [],
   "source": [
    "sumtable[\"case_id\"] = sumtable.index\n",
    "scraped_data[\"case_id\"] = scraped_data.index"
   ]
  },
  {
   "cell_type": "code",
   "execution_count": 12,
   "metadata": {},
   "outputs": [
    {
     "data": {
      "text/html": [
       "<div>\n",
       "<style scoped>\n",
       "    .dataframe tbody tr th:only-of-type {\n",
       "        vertical-align: middle;\n",
       "    }\n",
       "\n",
       "    .dataframe tbody tr th {\n",
       "        vertical-align: top;\n",
       "    }\n",
       "\n",
       "    .dataframe thead th {\n",
       "        text-align: right;\n",
       "    }\n",
       "</style>\n",
       "<table border=\"1\" class=\"dataframe\">\n",
       "  <thead>\n",
       "    <tr style=\"text-align: right;\">\n",
       "      <th></th>\n",
       "      <th>case_brief</th>\n",
       "      <th>case_name</th>\n",
       "      <th>case_status</th>\n",
       "      <th>class_period_end</th>\n",
       "      <th>class_period_start</th>\n",
       "      <th>company_market</th>\n",
       "      <th>court</th>\n",
       "      <th>date_filed</th>\n",
       "      <th>date_of_last_review</th>\n",
       "      <th>docket</th>\n",
       "      <th>...</th>\n",
       "      <th>fic_summary_table</th>\n",
       "      <th>headquarters</th>\n",
       "      <th>industry</th>\n",
       "      <th>judge</th>\n",
       "      <th>market_status</th>\n",
       "      <th>plaintiffs</th>\n",
       "      <th>sector</th>\n",
       "      <th>ticker_symbol</th>\n",
       "      <th>url</th>\n",
       "      <th>case_id</th>\n",
       "    </tr>\n",
       "  </thead>\n",
       "  <tbody>\n",
       "    <tr>\n",
       "      <th>0</th>\n",
       "      <td>According to the Complaint, Wirecard is a tech...</td>\n",
       "      <td>Wirecard AG Securities Litigation</td>\n",
       "      <td>ONGOING</td>\n",
       "      <td>6/24/20</td>\n",
       "      <td>8/17/15</td>\n",
       "      <td>OTC-BB</td>\n",
       "      <td>E.D. Pennsylvania</td>\n",
       "      <td>7/7/20</td>\n",
       "      <td>7/8/20</td>\n",
       "      <td>20-CV-03326</td>\n",
       "      <td>...</td>\n",
       "      <td>{\"No\":{\"0\":\"1\",\"1\":\"2\"},\"Document Title\":{\"0\":...</td>\n",
       "      <td>Germany</td>\n",
       "      <td>Software &amp; Programming</td>\n",
       "      <td>Hon. ANITA B. BRODY</td>\n",
       "      <td>Public (Listed)</td>\n",
       "      <td>The Rosen Law Firm, P.A. (Jenkintown)</td>\n",
       "      <td>Technology</td>\n",
       "      <td>WCAGY</td>\n",
       "      <td>http://securities.stanford.edu/filings-case.ht...</td>\n",
       "      <td>0</td>\n",
       "    </tr>\n",
       "    <tr>\n",
       "      <th>1</th>\n",
       "      <td>According to the Complaint, Finjan Holdings, I...</td>\n",
       "      <td>Finjan Holdings, Inc. Securities Litigation</td>\n",
       "      <td>ONGOING</td>\n",
       "      <td>6/29/20</td>\n",
       "      <td>6/10/20</td>\n",
       "      <td>NASDAQ</td>\n",
       "      <td>N.D. California</td>\n",
       "      <td>6/29/20</td>\n",
       "      <td>6/30/20</td>\n",
       "      <td>20-CV-04289</td>\n",
       "      <td>...</td>\n",
       "      <td>{\"No\":{\"0\":\"1\",\"1\":\"2\"},\"Document Title\":{\"0\":...</td>\n",
       "      <td>United States</td>\n",
       "      <td>Software &amp; Programming</td>\n",
       "      <td>Hon. Edward M. Chen</td>\n",
       "      <td>Public (Listed)</td>\n",
       "      <td>Brodsky &amp; Smith, LLC  (California)</td>\n",
       "      <td>Technology</td>\n",
       "      <td>FNJN</td>\n",
       "      <td>http://securities.stanford.edu/filings-case.ht...</td>\n",
       "      <td>1</td>\n",
       "    </tr>\n",
       "  </tbody>\n",
       "</table>\n",
       "<p>2 rows × 22 columns</p>\n",
       "</div>"
      ],
      "text/plain": [
       "                                          case_brief  \\\n",
       "0  According to the Complaint, Wirecard is a tech...   \n",
       "1  According to the Complaint, Finjan Holdings, I...   \n",
       "\n",
       "                                     case_name case_status class_period_end  \\\n",
       "0            Wirecard AG Securities Litigation     ONGOING          6/24/20   \n",
       "1  Finjan Holdings, Inc. Securities Litigation     ONGOING          6/29/20   \n",
       "\n",
       "  class_period_start company_market              court date_filed  \\\n",
       "0            8/17/15         OTC-BB  E.D. Pennsylvania     7/7/20   \n",
       "1            6/10/20         NASDAQ    N.D. California    6/29/20   \n",
       "\n",
       "  date_of_last_review       docket  ...  \\\n",
       "0              7/8/20  20-CV-03326  ...   \n",
       "1             6/30/20  20-CV-04289  ...   \n",
       "\n",
       "                                   fic_summary_table   headquarters  \\\n",
       "0  {\"No\":{\"0\":\"1\",\"1\":\"2\"},\"Document Title\":{\"0\":...        Germany   \n",
       "1  {\"No\":{\"0\":\"1\",\"1\":\"2\"},\"Document Title\":{\"0\":...  United States   \n",
       "\n",
       "                 industry                judge    market_status  \\\n",
       "0  Software & Programming  Hon. ANITA B. BRODY  Public (Listed)   \n",
       "1  Software & Programming  Hon. Edward M. Chen  Public (Listed)   \n",
       "\n",
       "                              plaintiffs      sector ticker_symbol  \\\n",
       "0  The Rosen Law Firm, P.A. (Jenkintown)  Technology         WCAGY   \n",
       "1     Brodsky & Smith, LLC  (California)  Technology          FNJN   \n",
       "\n",
       "                                                 url case_id  \n",
       "0  http://securities.stanford.edu/filings-case.ht...       0  \n",
       "1  http://securities.stanford.edu/filings-case.ht...       1  \n",
       "\n",
       "[2 rows x 22 columns]"
      ]
     },
     "execution_count": 12,
     "metadata": {},
     "output_type": "execute_result"
    }
   ],
   "source": [
    "scraped_data.head(2)"
   ]
  },
  {
   "cell_type": "code",
   "execution_count": 13,
   "metadata": {},
   "outputs": [
    {
     "data": {
      "text/plain": [
       "Index(['case_brief', 'case_name', 'case_status', 'class_period_end',\n",
       "       'class_period_start', 'company_market', 'court', 'date_filed',\n",
       "       'date_of_last_review', 'docket', 'fic_doc_links', 'fic_links_list',\n",
       "       'fic_summary_table', 'headquarters', 'industry', 'judge',\n",
       "       'market_status', 'plaintiffs', 'sector', 'ticker_symbol', 'url',\n",
       "       'case_id'],\n",
       "      dtype='object')"
      ]
     },
     "execution_count": 13,
     "metadata": {},
     "output_type": "execute_result"
    }
   ],
   "source": [
    "scraped_data.columns"
   ]
  },
  {
   "cell_type": "markdown",
   "metadata": {},
   "source": [
    "## Subsetting to data with no NA values"
   ]
  },
  {
   "cell_type": "code",
   "execution_count": 14,
   "metadata": {},
   "outputs": [],
   "source": [
    "#subset the data to features needed\n",
    "noNA = [\"case_brief\",\n",
    "        \"case_id\",\n",
    "        \"case_status\",\n",
    "        \"class_period_end\",\n",
    "        \"class_period_start\",\n",
    "        \"company_market\",\n",
    "        \"court\",\n",
    "        \"date_filed\",\n",
    "        \"headquarters\",\n",
    "        \"industry\",\n",
    "        \"judge\",\n",
    "        \"market_status\",\n",
    "        \"sector\"]\n",
    "\n",
    "def subsetting(data):\n",
    "    data = data.dropna(subset=noNA)\n",
    "    data = data[data[\"case_status\"]!=\"ONGOING\"]\n",
    "    return data\n",
    "\n",
    "data = subsetting(scraped_data)"
   ]
  },
  {
   "cell_type": "markdown",
   "metadata": {},
   "source": [
    "## Exchange, duration, time"
   ]
  },
  {
   "cell_type": "code",
   "execution_count": 15,
   "metadata": {},
   "outputs": [],
   "source": [
    "#add Concrete Exchange Information (company_market only listed primary)\n",
    "def findExchange(ticker):\n",
    "    return sumtable[\"Exchange\"][sumtable[\"Ticker\"]==ticker].unique()\n",
    "\n",
    "def preprocessExchange(data):\n",
    "    data[\"exchange\"]=data[\"ticker_symbol\"].apply(lambda x: findExchange(x))\n",
    "    return data"
   ]
  },
  {
   "cell_type": "code",
   "execution_count": 16,
   "metadata": {},
   "outputs": [],
   "source": [
    "#calculate duration\n",
    "from datetime import timezone \n",
    "import datetime\n",
    "\n",
    "def preprocessTime(data):\n",
    "    data[\"class_period_start\"] = pd.to_datetime(data[\"class_period_start\"])\n",
    "    data[\"class_period_end\"] = pd.to_datetime(data[\"class_period_end\"])\n",
    "    data[\"date_filed\"] = pd.to_datetime(data[\"date_filed\"])\n",
    "    data[\"class_duration\"] = data[\"class_period_end\"] - data[\"class_period_start\"]\n",
    "    \n",
    "    data[\"class_period_end_num\"] = data[\"class_period_end\"].apply(lambda x:x.replace(tzinfo = timezone.utc).timestamp())\n",
    "    data[\"class_period_start_num\"] = data[\"class_period_start\"].apply(lambda x:x.replace(tzinfo = timezone.utc).timestamp())\n",
    "    data[\"date_filed_num\"] = data[\"date_filed\"].apply(lambda x:x.replace(tzinfo = timezone.utc).timestamp())\n",
    "    data[\"class_duration_num\"] = data[\"class_period_end_num\"]-data[\"class_period_start_num\"]\n",
    "    return data"
   ]
  },
  {
   "cell_type": "code",
   "execution_count": 17,
   "metadata": {},
   "outputs": [],
   "source": [
    "#preprocess and remove ongoing cases and remove judge as a feature\n",
    "def preprocessAll(data):\n",
    "    data_input= preprocessExchange(data)\n",
    "    data_input= preprocessTime(data_input)\n",
    "    return data\n",
    "\n",
    "data_input = preprocessAll(data)"
   ]
  },
  {
   "cell_type": "code",
   "execution_count": 18,
   "metadata": {},
   "outputs": [
    {
     "data": {
      "text/plain": [
       "Index(['case_brief', 'case_name', 'case_status', 'class_period_end',\n",
       "       'class_period_start', 'company_market', 'court', 'date_filed',\n",
       "       'date_of_last_review', 'docket', 'fic_doc_links', 'fic_links_list',\n",
       "       'fic_summary_table', 'headquarters', 'industry', 'judge',\n",
       "       'market_status', 'plaintiffs', 'sector', 'ticker_symbol', 'url',\n",
       "       'case_id', 'exchange', 'class_duration', 'class_period_end_num',\n",
       "       'class_period_start_num', 'date_filed_num', 'class_duration_num'],\n",
       "      dtype='object')"
      ]
     },
     "execution_count": 18,
     "metadata": {},
     "output_type": "execute_result"
    }
   ],
   "source": [
    "data_input.columns"
   ]
  },
  {
   "cell_type": "markdown",
   "metadata": {},
   "source": [
    "## Construct X and Y"
   ]
  },
  {
   "cell_type": "code",
   "execution_count": 19,
   "metadata": {},
   "outputs": [],
   "source": [
    "##creating instance of one-hot-encoder\n",
    "enc = OneHotEncoder(handle_unknown='ignore')\n",
    "\n",
    "##identify columns\n",
    "category_columns = [\"company_market\",\"court\",\"headquarters\",\"industry\",\"market_status\"]#,\"sector\"]\n",
    "\n",
    "##fit encoder and transfrom\n",
    "enc.fit(data_input[category_columns].values)\n",
    "X_onehot = enc.transform(data_input[category_columns].values).toarray() #enc.get_feature_names(category_columns)"
   ]
  },
  {
   "cell_type": "code",
   "execution_count": 20,
   "metadata": {},
   "outputs": [],
   "source": [
    "##get other vars for X\n",
    "X_time = data_input[[\"class_period_end_num\",\n",
    "                    \"class_period_start_num\",\n",
    "                    \"date_filed_num\",\n",
    "                    \"class_duration_num\"]].values\n",
    "\n",
    "def time_norm(x_time):\n",
    "    normalized = np.zeros(shape=(X_time.shape[0],1))\n",
    "    for i in range(x_time.shape[1]):\n",
    "        f = np.take(x_time,[i],1)\n",
    "        f = (f- np.min(f))/np.std(f)\n",
    "        #print(normalized.shape,f.shape)\n",
    "        normalized = np.concatenate((normalized,f),1)\n",
    "    \n",
    "    normalized = np.delete(normalized,[0],1)\n",
    "    return normalized\n",
    "        \n",
    "X = np.concatenate((time_norm(X_time), X_onehot),1)\n",
    "\n",
    "##TODO: add constant ones?"
   ]
  },
  {
   "cell_type": "code",
   "execution_count": 21,
   "metadata": {},
   "outputs": [],
   "source": [
    "## construct y\n",
    "y_raw = data_input['case_status'].values\n",
    "y = np.zeros(y_raw.shape)\n",
    "y[y_raw == \"DISMISSED\"]=1\n",
    "y = y.reshape(-1,1)"
   ]
  },
  {
   "cell_type": "code",
   "execution_count": 22,
   "metadata": {},
   "outputs": [
    {
     "data": {
      "text/plain": [
       "((5061, 266), (5061, 1))"
      ]
     },
     "execution_count": 22,
     "metadata": {},
     "output_type": "execute_result"
    }
   ],
   "source": [
    "X.shape,y.shape"
   ]
  },
  {
   "cell_type": "code",
   "execution_count": 23,
   "metadata": {},
   "outputs": [
    {
     "data": {
      "text/plain": [
       "(array([2567]), array([2494]))"
      ]
     },
     "execution_count": 23,
     "metadata": {},
     "output_type": "execute_result"
    }
   ],
   "source": [
    "sum(y==1), sum(y==0) #relatively balanced data"
   ]
  },
  {
   "cell_type": "markdown",
   "metadata": {},
   "source": [
    "## Train test split"
   ]
  },
  {
   "cell_type": "code",
   "execution_count": 24,
   "metadata": {},
   "outputs": [],
   "source": [
    "#create cross validation sets \n",
    "X_train, X_test, y_train, y_test = train_test_split(X, y, test_size=0.30, random_state=777)\n",
    "X_ttrain, X_tval, y_ttrain, y_tval = train_test_split(X_train, y_train, test_size=0.20, random_state=888)"
   ]
  },
  {
   "cell_type": "code",
   "execution_count": 25,
   "metadata": {},
   "outputs": [
    {
     "data": {
      "text/plain": [
       "(2833, 709, 1519)"
      ]
     },
     "execution_count": 25,
     "metadata": {},
     "output_type": "execute_result"
    }
   ],
   "source": [
    "len(X_ttrain),len(X_tval),len(X_test)"
   ]
  },
  {
   "cell_type": "markdown",
   "metadata": {},
   "source": [
    "## PCA for potential use"
   ]
  },
  {
   "cell_type": "code",
   "execution_count": 69,
   "metadata": {},
   "outputs": [],
   "source": [
    "from sklearn.decomposition import PCA"
   ]
  },
  {
   "cell_type": "code",
   "execution_count": 92,
   "metadata": {},
   "outputs": [],
   "source": [
    "X_train_norm = (X_train - np.mean(X_train,0))/(np.std(X_train,0) + 0.0001)"
   ]
  },
  {
   "cell_type": "code",
   "execution_count": 101,
   "metadata": {},
   "outputs": [
    {
     "data": {
      "text/plain": [
       "array([[-3.68758116e-01, -3.96701749e-01, -3.66090270e-01, ...,\n",
       "         1.50788012e-02, -3.53293600e-01,  1.22665377e-01],\n",
       "       [ 3.39603953e-01,  3.01302657e-01,  3.41794294e-01, ...,\n",
       "         3.76562739e-02, -3.49099544e-01,  1.11815747e-01],\n",
       "       [-9.25557342e-02, -1.09484785e-01, -9.08392604e-02, ...,\n",
       "         6.90024594e-03,  7.82021328e-02,  1.26171461e-01],\n",
       "       ...,\n",
       "       [-0.00000000e+00, -2.64514778e-16,  2.33270279e-16, ...,\n",
       "        -8.33520750e-03, -6.48414451e-02, -2.24626123e-02],\n",
       "       [-0.00000000e+00,  1.05341703e-16, -8.43339391e-17, ...,\n",
       "        -4.05225580e-03, -3.15234050e-02, -1.09204541e-02],\n",
       "       [ 0.00000000e+00, -2.67147415e-16,  1.95122737e-16, ...,\n",
       "        -1.53830642e-03, -1.19668300e-02, -4.14559334e-03]])"
      ]
     },
     "execution_count": 101,
     "metadata": {},
     "output_type": "execute_result"
    }
   ],
   "source": [
    "pca = PCA()\n",
    "pca.fit(X_train_norm)\n",
    "pca.components_"
   ]
  },
  {
   "cell_type": "markdown",
   "metadata": {},
   "source": [
    "# Model Functions"
   ]
  },
  {
   "cell_type": "code",
   "execution_count": 28,
   "metadata": {},
   "outputs": [],
   "source": [
    "from sklearn.model_selection import train_test_split\n",
    "from sklearn.metrics import f1_score\n",
    "from sklearn.model_selection import GridSearchCV\n",
    "from sklearn.model_selection import cross_val_score\n",
    "import matplotlib.pyplot as plt\n",
    "import json"
   ]
  },
  {
   "cell_type": "code",
   "execution_count": 29,
   "metadata": {},
   "outputs": [],
   "source": [
    "def modelEval(X_train, y_train, X_test, y_test, model, result_output_name, path = \"../model_results/\", printResults = True):\n",
    "    clf = model.fit(X_train, y_train)\n",
    "    \n",
    "    # predict\n",
    "    y_pred_train = clf.predict(X_train)\n",
    "    y_pred_test = clf.predict(X_test)\n",
    "#     print(y_pred_train.shape, y_train.shape)\n",
    "#     assert(y_pred_train.shape == y_train.shape)\n",
    "#     assert(y_pred_test.shape == y_test.shape)\n",
    "    \n",
    "    # save results in dictionary\n",
    "    model_dict = {}\n",
    "    model_dict['train accuracy'] = clf.score(X_train, y_train)\n",
    "    model_dict['test accuracy'] = clf.score(X_test, y_test)\n",
    "    model_dict['train f-score'] = f1_score(y_train, y_pred_train)\n",
    "    model_dict['test f-score'] = f1_score(y_test, y_pred_test)\n",
    "    \n",
    "    # output the dictionary\n",
    "    with open(path + result_output_name + \".json\", \"w\") as outfile:  \n",
    "        json.dump(model_dict, outfile) \n",
    "    \n",
    "    # print\n",
    "    if printResults == True:\n",
    "        print('train accuracy:', model_dict['train accuracy'])\n",
    "        print('test accuracy:', model_dict['test accuracy'])\n",
    "        print('train f-score:', model_dict['train f-score'])\n",
    "        print('test f-score:', model_dict['test f-score'])\n",
    "    \n",
    "    return clf, model_dict"
   ]
  },
  {
   "cell_type": "markdown",
   "metadata": {},
   "source": [
    "# Decistion Tree"
   ]
  },
  {
   "cell_type": "code",
   "execution_count": 4,
   "metadata": {},
   "outputs": [],
   "source": [
    "from sklearn import tree\n",
    "from sklearn.model_selection import cross_val_score"
   ]
  },
  {
   "cell_type": "code",
   "execution_count": 64,
   "metadata": {},
   "outputs": [],
   "source": [
    "# cross validation\n",
    "def crossValidationDT(X_train, y_train, hyperparameters, title):\n",
    "    scores = []\n",
    "    for h in hyperparameters:\n",
    "        model = tree.DecisionTreeClassifier(max_depth=h) #penalty='elasticnet', solver=\"saga\", l1_ratio = 0.3)\n",
    "        scores.append(cross_val_score(estimator=model, X=X_train, y=y_train, cv=10).mean())\n",
    "    \n",
    "    plt.plot(hyperparameters,scores)\n",
    "    plt.xticks(hyperparameters)\n",
    "    plt.title(title)\n",
    "    plt.show()\n",
    "    return scores"
   ]
  },
  {
   "cell_type": "code",
   "execution_count": 193,
   "metadata": {},
   "outputs": [
    {
     "data": {
      "image/png": "[encoded data removed]",
      "text/plain": [
       "<Figure size 432x288 with 1 Axes>"
      ]
     },
     "metadata": {
      "needs_background": "light"
     },
     "output_type": "display_data"
    }
   ],
   "source": [
    "scoresDT = crossValidationDT(X_train, y_train, range(3,20), \"Decision Tree CV Accuracy\")"
   ]
  },
  {
   "cell_type": "code",
   "execution_count": 191,
   "metadata": {},
   "outputs": [
    {
     "name": "stdout",
     "output_type": "stream",
     "text": [
      "train accuracy: 0.6677018633540373\n",
      "test accuracy: 0.6550362080315998\n",
      "train f-score: 0.5619650167473019\n",
      "test f-score: 0.5683690280065897\n"
     ]
    }
   ],
   "source": [
    "# define dt model\n",
    "dt = tree.DecisionTreeClassifier(max_depth=4)\n",
    "modeldt = modelEval(X_train, y_train, X_test, y_test, dt, \"dt\")"
   ]
  },
  {
   "cell_type": "markdown",
   "metadata": {},
   "source": [
    "# Gradient Tree Boosting"
   ]
  },
  {
   "cell_type": "code",
   "execution_count": 241,
   "metadata": {},
   "outputs": [],
   "source": [
    "# # cross validation\n",
    "# def crossValidationXGB(X_train, y_train, hyperparameters, title):\n",
    "#     scores = []\n",
    "#     for h in hyperparameters:\n",
    "#         model = tree.RandomForestClassifier(max_depth=h) #penalty='elasticnet', solver=\"saga\", l1_ratio = 0.3)\n",
    "#         scores.append(cross_val_score(estimator=model, X=X_train, y=y_train, cv=10).mean())\n",
    "    \n",
    "#     plt.plot(hyperparameters,scoresDT)\n",
    "#     plt.xticks(hyperparameters)\n",
    "#     plt.title(title)\n",
    "#     plt.show()\n",
    "#     return scores"
   ]
  },
  {
   "cell_type": "code",
   "execution_count": 213,
   "metadata": {},
   "outputs": [],
   "source": [
    "import xgboost as xgb\n",
    "from sklearn.metrics import accuracy_score"
   ]
  },
  {
   "cell_type": "code",
   "execution_count": 259,
   "metadata": {},
   "outputs": [
    {
     "name": "stdout",
     "output_type": "stream",
     "text": [
      "[21:55:49] WARNING: /Users/travis/build/dmlc/xgboost/src/learner.cc:1094: Starting in XGBoost 1.3.0, the default evaluation metric used with the objective 'binary:logistic' was changed from 'error' to 'logloss'. Explicitly set eval_metric if you'd like to restore the old behavior.\n",
      "train accuracy: 0.7444405224144017\n",
      "test accuracy: 0.6516220028208745\n",
      "train f-score: 0.7322485207100591\n",
      "test f-score: 0.627450980392157\n"
     ]
    }
   ],
   "source": [
    "xgb_model= xgb.XGBClassifier(max_depth=2, reg_lambda=0.5, reg_alpha=0.5)\n",
    "modelxgb = modelEval(X_ttrain, y_ttrain.ravel(), X_tval, y_tval.ravel(), xgb_model, \"xgb\")"
   ]
  },
  {
   "cell_type": "markdown",
   "metadata": {},
   "source": [
    "# Logistic Regression"
   ]
  },
  {
   "cell_type": "code",
   "execution_count": 36,
   "metadata": {},
   "outputs": [],
   "source": [
    "from sklearn.linear_model import LogisticRegression"
   ]
  },
  {
   "cell_type": "code",
   "execution_count": 65,
   "metadata": {},
   "outputs": [],
   "source": [
    "# cross validation\n",
    "def crossValidationLR(X_train, y_train, hyperparameters, title):\n",
    "    scores = []\n",
    "    for h in hyperparameters:\n",
    "        model = LogisticRegression(max_iter=20000, C=h) \n",
    "        scores.append(cross_val_score(estimator=model, X=X_train, y=y_train, cv=10).mean())\n",
    "    \n",
    "    plt.plot(hyperparameters,scores)\n",
    "    plt.xticks(hyperparameters)\n",
    "    plt.title(title)\n",
    "    plt.show()\n",
    "    return scores"
   ]
  },
  {
   "cell_type": "code",
   "execution_count": 68,
   "metadata": {},
   "outputs": [
    {
     "data": {
      "image/png": "[encoded data removed]",
      "text/plain": [
       "<Figure size 432x288 with 1 Axes>"
      ]
     },
     "metadata": {
      "needs_background": "light"
     },
     "output_type": "display_data"
    }
   ],
   "source": [
    "scoresLR = crossValidationLR(X_train, y_train.ravel(), [0.05, 0.1, 0.2, 0.3, 0.4, 0.8], \"LR CV Accuracy\")"
   ]
  },
  {
   "cell_type": "code",
   "execution_count": 67,
   "metadata": {},
   "outputs": [
    {
     "name": "stdout",
     "output_type": "stream",
     "text": [
      "train accuracy: 0.6804065499717674\n",
      "test accuracy: 0.6616194865042792\n",
      "train f-score: 0.6724537037037036\n",
      "test f-score: 0.6605019815059445\n"
     ]
    }
   ],
   "source": [
    "model = LogisticRegression(max_iter=20000, C=0.1)\n",
    "lr = modelEval(X_train, y_train.ravel(), X_test, y_test.ravel(), model, \"lr\")"
   ]
  },
  {
   "cell_type": "markdown",
   "metadata": {},
   "source": [
    "# SVM"
   ]
  },
  {
   "cell_type": "code",
   "execution_count": 260,
   "metadata": {},
   "outputs": [],
   "source": [
    "from sklearn import svm"
   ]
  },
  {
   "cell_type": "code",
   "execution_count": 261,
   "metadata": {},
   "outputs": [],
   "source": [
    "# cross validation\n",
    "def crossValidationSVM(X_train, y_train, hyperparameters, title):\n",
    "    scores = []\n",
    "    for h in hyperparameters:\n",
    "        model = svm.SVC(max_iter=20000, C=h) \n",
    "        scores.append(cross_val_score(estimator=model, X=X_train, y=y_train, cv=10).mean())\n",
    "    \n",
    "    plt.plot(hyperparameters,scores)\n",
    "    plt.xticks(hyperparameters)\n",
    "    plt.title(title)\n",
    "    plt.show()\n",
    "    return scores"
   ]
  },
  {
   "cell_type": "code",
   "execution_count": 262,
   "metadata": {},
   "outputs": [
    {
     "data": {
      "image/png": "[encoded data removed]",
      "text/plain": [
       "<Figure size 432x288 with 1 Axes>"
      ]
     },
     "metadata": {
      "needs_background": "light"
     },
     "output_type": "display_data"
    }
   ],
   "source": [
    "scoresSVM = crossValidationSVM(X_train, y_train.ravel(), [0.05, 0.1, 0.2, 0.3, 0.4, 0.8], \"SVM CV Accuracy\")"
   ]
  },
  {
   "cell_type": "code",
   "execution_count": 264,
   "metadata": {},
   "outputs": [
    {
     "name": "stdout",
     "output_type": "stream",
     "text": [
      "train accuracy: 0.6634669678147939\n",
      "test accuracy: 0.6747860434496379\n",
      "train f-score: 0.6398791540785498\n",
      "test f-score: 0.6630286493860845\n"
     ]
    }
   ],
   "source": [
    "model = svm.SVC(max_iter=20000, C=0.1)\n",
    "svm_clf = modelEval(X_train, y_train.ravel(), X_test, y_test.ravel(), model, \"svm\")"
   ]
  },
  {
   "cell_type": "markdown",
   "metadata": {},
   "source": [
    "# Fully Connected Neural Network version 1"
   ]
  },
  {
   "cell_type": "code",
   "execution_count": 28,
   "metadata": {},
   "outputs": [],
   "source": [
    "import torch\n",
    "import torch.nn as nn\n",
    "import torch.optim as optim\n",
    "import torch.nn.functional as F\n",
    "from torch.autograd import Variable\n",
    "from torch.utils.data import DataLoader\n",
    "import torch.optim as optim\n",
    "from datetime import datetime\n",
    "import glob, os\n",
    "import matplotlib.pyplot as plt"
   ]
  },
  {
   "cell_type": "code",
   "execution_count": 3,
   "metadata": {},
   "outputs": [],
   "source": [
    "class Dataset(torch.utils.data.Dataset):\n",
    "    'Characterizes a dataset for PyTorch'\n",
    "    def __init__(self, features, labels): #labels will be numpy (n,)\n",
    "        'Initialization'\n",
    "        self.features = torch.tensor(features, dtype=torch.float) #instance variables\n",
    "        self.labels = torch.tensor(labels.reshape(-1,1), dtype=torch.float)\n",
    "\n",
    "    def __len__(self):\n",
    "        'Denotes the total number of samples'\n",
    "        return len(self.labels)\n",
    "\n",
    "    def __getitem__(self, index):\n",
    "        'Generates one sample of data'\n",
    "        # Load data and get label\n",
    "        X = self.features[index]\n",
    "        y = self.labels[index]\n",
    "\n",
    "        return X, y\n",
    "    \n",
    "    def getFeatures(self):\n",
    "        return self.features"
   ]
  },
  {
   "cell_type": "code",
   "execution_count": 4,
   "metadata": {},
   "outputs": [],
   "source": [
    "# create model class\n",
    "class NeuralNetwork(nn.Module):\n",
    "    \"\"\"\n",
    "    Simplr neural network to intake\n",
    "    \"\"\"\n",
    "    \n",
    "    def __init__(self, p, hid, drop_rate):\n",
    "        super(NeuralNetwork, self).__init__()\n",
    "        self.hidden = hid\n",
    "        self.dropout_rate = drop_rate\n",
    "        self.linear1 = nn.Linear(p, self.hidden, bias=True)  \n",
    "        self.linear2 = nn.Linear(self.hidden, self.hidden, bias=True) \n",
    "        self.linear3 = nn.Linear(self.hidden, 1, bias=True)\n",
    "        \n",
    "    def forward(self, x):    \n",
    "        model = torch.nn.Sequential(\n",
    "            self.linear1, \n",
    "            nn.ReLU(), \n",
    "            nn.BatchNorm1d(self.hidden),\n",
    "            nn.Dropout(p=self.dropout_rate), \n",
    "            self.linear2, \n",
    "            nn.ReLU(),\n",
    "            nn.BatchNorm1d(self.hidden),\n",
    "            nn.Dropout(p=self.dropout_rate),\n",
    "            self.linear3,\n",
    "            nn.Sigmoid()\n",
    "        )\n",
    "\n",
    "        return model(x)"
   ]
  },
  {
   "cell_type": "code",
   "execution_count": 5,
   "metadata": {},
   "outputs": [],
   "source": [
    "# create function for training (similar to hw8)\n",
    "def train(X_train_all, y_train_all, X_test, y_test, model, batch_size, num_epochs, criterion, optimizer):\n",
    "    loss_curve = []\n",
    "    accuracy_curve = []\n",
    "    val_accuracy_curve = []\n",
    "    # create train test split\n",
    "    \n",
    "    X_train, X_val, y_train, y_val = train_test_split(X_train_all, y_train_all, test_size=0.2, random_state=42)\n",
    "    dataloader = DataLoader(Dataset(X_train, y_train), batch_size=batch_size, shuffle=True)\n",
    "    \n",
    "    for epoch in range(num_epochs): # loop over each epoch\n",
    "        epoch_loss = 0\n",
    "        total = 0\n",
    "        correct = 0\n",
    "        \n",
    "        for data in dataloader: # loop over each batch\n",
    "            embeddings, labels = data\n",
    "            outputs = model(embeddings.float())\n",
    "            loss = criterion(outputs, labels)\n",
    "\n",
    "            optimizer.zero_grad()\n",
    "            loss.backward()\n",
    "            optimizer.step()\n",
    "\n",
    "            # save train performance\n",
    "            epoch_loss+=loss.item()\n",
    "            preds = 1*(outputs>0.5)\n",
    "            correct += (preds.reshape(-1,1) == labels).sum().item()\n",
    "            total += float(len(labels))\n",
    "        \n",
    "        # train loss and accuracy\n",
    "        epoch_loss = epoch_loss / len(dataloader)\n",
    "        epoch_accuracy = correct / total\n",
    "        loss_curve.append(epoch_loss)\n",
    "        accuracy_curve.append(epoch_accuracy)\n",
    "        \n",
    "        # validation accuracy \n",
    "        X_val_t = torch.tensor(X_val, dtype=torch.float) #instance variables\n",
    "        y_val_t = torch.tensor(y_val.reshape(-1,1), dtype=torch.float)\n",
    "        val_outputs = model(X_val_t.float())\n",
    "        val_preds = 1*(val_outputs>0.5)\n",
    "        val_accuracy = (val_preds.reshape(-1,1) == y_val_t).sum().item()/len(y_val_t)\n",
    "        val_accuracy_curve.append(val_accuracy)\n",
    "        \n",
    "        # test accuracy \n",
    "        X_test_t = torch.tensor(X_test, dtype=torch.float) #instance variables\n",
    "        y_test_t = torch.tensor(y_test.reshape(-1,1), dtype=torch.float)\n",
    "        test_outputs = model(X_test_t.float())\n",
    "        test_preds = 1*(test_outputs>0.5)\n",
    "        test_accuracy = (test_preds.reshape(-1,1) == y_test_t).sum().item()/len(y_test_t)\n",
    "        \n",
    "        print('epoch [{}/{}], mean epoch loss:{:.4f}, train acc:{:.4f}, val acc:{:.4f}, test acc:{:.4f}'.format(\n",
    "            epoch + 1, num_epochs, epoch_loss, epoch_accuracy, val_accuracy, test_accuracy))\n",
    "        \n",
    "    return model, loss_curve, val_accuracy_curve"
   ]
  },
  {
   "cell_type": "code",
   "execution_count": 34,
   "metadata": {},
   "outputs": [
    {
     "name": "stdout",
     "output_type": "stream",
     "text": [
      "epoch [1/50], mean epoch loss:0.7135, train acc:0.5583, val acc:0.6243, test acc:0.6300\n",
      "epoch [2/50], mean epoch loss:0.6723, train acc:0.6315, val acc:0.6384, test acc:0.6596\n",
      "epoch [3/50], mean epoch loss:0.6567, train acc:0.6284, val acc:0.6420, test acc:0.6557\n",
      "epoch [4/50], mean epoch loss:0.6496, train acc:0.6346, val acc:0.6420, test acc:0.6603\n",
      "epoch [5/50], mean epoch loss:0.6488, train acc:0.6421, val acc:0.6367, test acc:0.6425\n",
      "epoch [6/50], mean epoch loss:0.6244, train acc:0.6549, val acc:0.6667, test acc:0.6419\n",
      "epoch [7/50], mean epoch loss:0.6305, train acc:0.6545, val acc:0.6561, test acc:0.6504\n",
      "epoch [8/50], mean epoch loss:0.6253, train acc:0.6567, val acc:0.6473, test acc:0.6425\n",
      "epoch [9/50], mean epoch loss:0.6185, train acc:0.6531, val acc:0.6437, test acc:0.6353\n",
      "epoch [10/50], mean epoch loss:0.6220, train acc:0.6615, val acc:0.6755, test acc:0.6603\n",
      "epoch [11/50], mean epoch loss:0.6197, train acc:0.6571, val acc:0.6402, test acc:0.6478\n",
      "epoch [12/50], mean epoch loss:0.6109, train acc:0.6611, val acc:0.6755, test acc:0.6478\n",
      "epoch [13/50], mean epoch loss:0.5966, train acc:0.6681, val acc:0.6720, test acc:0.6346\n",
      "epoch [14/50], mean epoch loss:0.6011, train acc:0.6699, val acc:0.6631, test acc:0.6511\n",
      "epoch [15/50], mean epoch loss:0.5964, train acc:0.6699, val acc:0.6614, test acc:0.6629\n",
      "epoch [16/50], mean epoch loss:0.5904, train acc:0.6712, val acc:0.6649, test acc:0.6623\n",
      "epoch [17/50], mean epoch loss:0.5896, train acc:0.6756, val acc:0.6667, test acc:0.6656\n",
      "epoch [18/50], mean epoch loss:0.5891, train acc:0.6783, val acc:0.6702, test acc:0.6511\n",
      "epoch [19/50], mean epoch loss:0.5795, train acc:0.6946, val acc:0.6578, test acc:0.6511\n",
      "epoch [20/50], mean epoch loss:0.5760, train acc:0.6942, val acc:0.6667, test acc:0.6531\n",
      "epoch [21/50], mean epoch loss:0.5723, train acc:0.6849, val acc:0.6649, test acc:0.6438\n",
      "epoch [22/50], mean epoch loss:0.5756, train acc:0.7008, val acc:0.6720, test acc:0.6616\n",
      "epoch [23/50], mean epoch loss:0.5734, train acc:0.6968, val acc:0.6825, test acc:0.6550\n",
      "epoch [24/50], mean epoch loss:0.5666, train acc:0.7048, val acc:0.6508, test acc:0.6544\n",
      "epoch [25/50], mean epoch loss:0.5620, train acc:0.7052, val acc:0.6684, test acc:0.6511\n",
      "epoch [26/50], mean epoch loss:0.5602, train acc:0.7017, val acc:0.6649, test acc:0.6491\n",
      "epoch [27/50], mean epoch loss:0.5693, train acc:0.7087, val acc:0.6737, test acc:0.6557\n",
      "epoch [28/50], mean epoch loss:0.5536, train acc:0.7030, val acc:0.6684, test acc:0.6366\n",
      "epoch [29/50], mean epoch loss:0.5654, train acc:0.6946, val acc:0.6684, test acc:0.6695\n",
      "epoch [30/50], mean epoch loss:0.5512, train acc:0.7008, val acc:0.6631, test acc:0.6550\n",
      "epoch [31/50], mean epoch loss:0.5433, train acc:0.7184, val acc:0.6667, test acc:0.6590\n",
      "epoch [32/50], mean epoch loss:0.5337, train acc:0.7317, val acc:0.6561, test acc:0.6498\n",
      "epoch [33/50], mean epoch loss:0.5420, train acc:0.7132, val acc:0.6684, test acc:0.6366\n",
      "epoch [34/50], mean epoch loss:0.5453, train acc:0.7132, val acc:0.6772, test acc:0.6517\n",
      "epoch [35/50], mean epoch loss:0.5472, train acc:0.7096, val acc:0.6878, test acc:0.6557\n",
      "epoch [36/50], mean epoch loss:0.5444, train acc:0.7123, val acc:0.6508, test acc:0.6550\n",
      "epoch [37/50], mean epoch loss:0.5422, train acc:0.7207, val acc:0.6578, test acc:0.6366\n",
      "epoch [38/50], mean epoch loss:0.5351, train acc:0.7330, val acc:0.6631, test acc:0.6590\n",
      "epoch [39/50], mean epoch loss:0.5272, train acc:0.7255, val acc:0.6702, test acc:0.6379\n",
      "epoch [40/50], mean epoch loss:0.5390, train acc:0.7154, val acc:0.6896, test acc:0.6373\n",
      "epoch [41/50], mean epoch loss:0.5375, train acc:0.7237, val acc:0.6684, test acc:0.6458\n",
      "epoch [42/50], mean epoch loss:0.5332, train acc:0.7211, val acc:0.6631, test acc:0.6498\n",
      "epoch [43/50], mean epoch loss:0.5306, train acc:0.7224, val acc:0.6667, test acc:0.6531\n",
      "epoch [44/50], mean epoch loss:0.5311, train acc:0.7242, val acc:0.6790, test acc:0.6544\n",
      "epoch [45/50], mean epoch loss:0.5365, train acc:0.7127, val acc:0.6684, test acc:0.6564\n",
      "epoch [46/50], mean epoch loss:0.5358, train acc:0.7189, val acc:0.6596, test acc:0.6478\n",
      "epoch [47/50], mean epoch loss:0.5292, train acc:0.7290, val acc:0.6825, test acc:0.6570\n",
      "epoch [48/50], mean epoch loss:0.5180, train acc:0.7352, val acc:0.6702, test acc:0.6504\n",
      "epoch [49/50], mean epoch loss:0.5266, train acc:0.7193, val acc:0.6808, test acc:0.6557\n",
      "epoch [50/50], mean epoch loss:0.5262, train acc:0.7224, val acc:0.6720, test acc:0.6517\n"
     ]
    }
   ],
   "source": [
    "# initiate other inputs\n",
    "batch_size = 100\n",
    "device = torch.device(\"cuda\" if torch.cuda.is_available() else \"cpu\")\n",
    "criterion = nn.BCELoss()\n",
    "\n",
    "# train models\n",
    "num_epochs = 50\n",
    "model = NeuralNetwork(X_ttrain.shape[1],128,0.6)\n",
    "optimizer = optim.Adam(model.parameters(), lr=0.3e-3, weight_decay=1e-4)\n",
    "model, loss_curve, val_acc = train(X_ttrain, y_ttrain, X_test, y_test, \n",
    "                                   model, batch_size, num_epochs, criterion, optimizer)"
   ]
  },
  {
   "cell_type": "code",
   "execution_count": 35,
   "metadata": {},
   "outputs": [
    {
     "data": {
      "image/png": "[encoded data removed]",
      "text/plain": [
       "<Figure size 432x288 with 1 Axes>"
      ]
     },
     "metadata": {
      "needs_background": "light"
     },
     "output_type": "display_data"
    },
    {
     "data": {
      "image/png": "[encoded data removed]",
      "text/plain": [
       "<Figure size 432x288 with 1 Axes>"
      ]
     },
     "metadata": {
      "needs_background": "light"
     },
     "output_type": "display_data"
    }
   ],
   "source": [
    "plt.plot(loss_curve)\n",
    "plt.title(\"Train Loss\")\n",
    "plt.show()\n",
    "\n",
    "plt.plot(val_acc)\n",
    "plt.title(\"Validation accuracy\")\n",
    "plt.show()"
   ]
  }
 ],
 "metadata": {
  "kernelspec": {
   "display_name": "Python 3",
   "language": "python",
   "name": "python3"
  },
  "language_info": {
   "codemirror_mode": {
    "name": "ipython",
    "version": 3
   },
   "file_extension": ".py",
   "mimetype": "text/x-python",
   "name": "python",
   "nbconvert_exporter": "python",
   "pygments_lexer": "ipython3",
   "version": "3.8.5"
  }
 },
 "nbformat": 4,
 "nbformat_minor": 4
}
